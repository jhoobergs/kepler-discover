{
 "cells": [
  {
   "cell_type": "markdown",
   "metadata": {},
   "source": [
    "# Ontdek exoplaneten"
   ]
  },
  {
   "cell_type": "markdown",
   "metadata": {},
   "source": [
    "Voordat we kunnen beginnen, moeten we een aantal (software)bibliotheken ('libraries') inladen. Softwarebibliotheken zijn softwarepakketten -- vaak in de vorm van de code -- die door anderen geschreven zijn en die je kan herbruiken in je eigen code."
   ]
  },
  {
   "cell_type": "code",
   "execution_count": null,
   "metadata": {},
   "outputs": [],
   "source": [
    "%matplotlib inline\n",
    "import lightkurve as lk\n",
    "import matplotlib.pyplot as plt\n",
    "import numpy as np"
   ]
  },
  {
   "cell_type": "markdown",
   "metadata": {},
   "source": [
    "Nu specifiëren we welke ster we willen bekijken. We moeten ook kiezen voor welk 'quarter' van de Kepler missie we de data willen downloaden. Dit moet een getal zijn tussen 0 en 17. Niet alle sterren konden worden gefotografeerd in elke quarter."
   ]
  },
  {
   "cell_type": "code",
   "execution_count": null,
   "metadata": {},
   "outputs": [],
   "source": [
    "star = \"Kepler-8\"\n",
    "quarter = 3"
   ]
  },
  {
   "cell_type": "markdown",
   "metadata": {},
   "source": [
    "We downloaden de data van NASA"
   ]
  },
  {
   "cell_type": "code",
   "execution_count": null,
   "metadata": {},
   "outputs": [],
   "source": [
    "tpf = lk.search_targetpixelfile(star, quarter=quarter).download()"
   ]
  },
  {
   "cell_type": "markdown",
   "metadata": {},
   "source": [
    "We plotten de pixels van de afbeelding die overeenkomen met de ster"
   ]
  },
  {
   "cell_type": "code",
   "execution_count": null,
   "metadata": {},
   "outputs": [],
   "source": [
    "tpf.plot(frame=100, scale='log', show_colorbar=True)"
   ]
  },
  {
   "cell_type": "markdown",
   "metadata": {},
   "source": [
    "We gebruiken de `to_lightcurve` methode om deze foto's om te zetten naar een `lightcurve`. Deze `lightcurve` bevat informatie over de hoeveelheid licht die we opvangen van de ster, doorheen de tijd."
   ]
  },
  {
   "cell_type": "code",
   "execution_count": null,
   "metadata": {},
   "outputs": [],
   "source": [
    "lc = tpf.to_lightcurve(aperture_mask=tpf.pipeline_mask)"
   ]
  },
  {
   "cell_type": "markdown",
   "metadata": {},
   "source": [
    "Hieronder plotten we de `lightcurve`. Valt er je iets op?"
   ]
  },
  {
   "cell_type": "code",
   "execution_count": null,
   "metadata": {},
   "outputs": [],
   "source": [
    "lc.plot()"
   ]
  },
  {
   "cell_type": "markdown",
   "metadata": {},
   "source": [
    "Bovenstaande grafiek bevat een globaal verloop en mogelijks ook verschijnselen die periodiek terugkomen. Als er een periodieke daling is van de intensiteit, dan kan dit erop wijzen dat er een planeet rond de ster draait. \n",
    "\n",
    "Hieronder berekenen we via de `calculate_and_plot_trend` functie de `flattened_lc` en de `trend`. Het plot ook bovenstaande functie opnieuw, met daarbij een rode trendlijn. Deze rode trend is te wijten aan veranderingen in de hoek tussen het invallend licht van de ster en de teloscoop. De `flattened_lc` lightcurve verkrijgen we door de globale trend weg te filteren uit de data en kunnen we beschouwen als 'bruikbare data'."
   ]
  },
  {
   "cell_type": "code",
   "execution_count": null,
   "metadata": {
    "scrolled": true
   },
   "outputs": [],
   "source": [
    "from helper import calculate_and_plot_trend\n",
    "flattened_lc, trend = calculate_and_plot_trend(lc, star)"
   ]
  },
  {
   "cell_type": "code",
   "execution_count": null,
   "metadata": {},
   "outputs": [],
   "source": [
    "flattened_lc.errorbar(label=\"Flat \" + star)"
   ]
  },
  {
   "cell_type": "markdown",
   "metadata": {},
   "source": [
    "## Zoek de planeet"
   ]
  },
  {
   "cell_type": "markdown",
   "metadata": {},
   "source": [
    "Hieronder gaan we een planeet zoeken door de kijken naar het `periodigram`. Dit periodigram toont hoe hard een specifieke periode (of frequentie) voorkomt in een functie.\n",
    "\n",
   "Voordat we dit periodigram gaan opstellen, moeten we bepalen voor welke periodes we dit willen doen. De meeste missies van Kepler duurde ongeveer 90 dagen, wat is dan de maximale periode die we kunnen waarnemen met deze data?\n",
    "Stel hieronder de minimale en maximale periode in die je wilt bekijken. Wijzig deze waarden later om specifieke periodes beter te kunnen onderzoeken"
   ]
  },
  {
   "cell_type": "code",
   "execution_count": null,
   "metadata": {},
   "outputs": [],
   "source": [
    "min_period = 1\n",
    "max_period = 15"
   ]
  },
  {
   "cell_type": "markdown",
   "metadata": {},
   "source": [
    "Hieronder plotten we het periodigram."
   ]
  },
  {
   "cell_type": "code",
   "execution_count": null,
   "metadata": {},
   "outputs": [],
   "source": [
    "periodogram = flattened_lc.to_periodogram(method=\"bls\", period=np.arange(min_period, max_period, 0.0001))\n",
    "periodogram.plot();"
   ]
  },
  {
   "cell_type": "markdown",
   "metadata": {},
   "source": [
    "We kunnen proberen om de periode met de hoogste piek, af te lezen van de bovenstaande grafiek. Dit zal echter niet zo nauwkeurig zijn. Het is daarom handig dat we die gegevens kunnen opvragen aan het periodogram."
   ]
  },
  {
   "cell_type": "code",
   "execution_count": null,
   "metadata": {},
   "outputs": [],
   "source": [
    "    best_fit_period = periodogram.period_at_max_power\n",
    "    print('Best fit period: {:.3f}'.format(best_fit_period))\n",
    "    best_fit_duration = periodogram.duration_at_max_power\n",
    "    print('Best fit duration: {:.3f}'.format(best_fit_duration))\n",
    "    best_fit_depth = periodogram.depth_at_max_power\n",
    "    print('Best fit depth: {:.3f}'.format(best_fit_depth))\n",
    "    transit_time_at_max_power = periodogram.transit_time_at_max_power\n",
    "    print('Best fit transit time: {:.3f}'.format(transit_time_at_max_power))\n"
   ]
  },
  {
   "cell_type": "markdown",
   "metadata": {},
   "source": [
    "## Hebben we een planeet gevonden?\n",
    "\n",
    "Hieronder gaan we controleren of de periode die we gevonden hebben, ook echt de data weerspiegeld. Om dit te doen gaan we de grafiek 'samenplooien' (of 'folden' in het engels). Wat betekent dit? Het betekent dat we een bepaald startpunt (de `offset`) gaan kiezen en een bepaalde periode en dat we aan de hand van die twee waardes en de functie, een nieuwe functie gaan maken met een bereik van -0.5 tot 0.5. \n",
    "\n",
    "Hoe maken we nu die nieuwe functie?\n",
    "- We nemen het deel van de eerste functie vanaf het startpunt (de `offset`) tot `offset + periode` en kopiëren dit naar de nieuwe grafiek. We herschuiven (zodat het midden bij x=0 ligt) en schalen dit, zodat het past in het bereik -0.5 tot 0.5\n",
    "- We delen de delen links en rechts van dit stukje op in stukken met een lengte gelijk aan `periode` en passen hierop deze verschuiving en schaling toe"
   ]
  },
  {
   "cell_type": "code",
   "execution_count": null,
   "metadata": {},
   "outputs": [],
   "source": [
    "fold_period = 3.517\n",
    "fold_offset = 262.074"
   ]
  },
  {
   "cell_type": "markdown",
   "metadata": {},
   "source": [
    "Voer het fold commando uit."
   ]
  },
  {
   "cell_type": "code",
   "execution_count": null,
   "metadata": {},
   "outputs": [],
   "source": [
    "folded = flattened_lc.fold(period=fold_period, t0=fold_offset)"
   ]
  },
  {
   "cell_type": "markdown",
   "metadata": {},
   "source": [
    "Plot de samengeplooide data via een scatterplot. Hoe zou dit er moeten uitzien voor een planeet?"
   ]
  },
  {
   "cell_type": "code",
   "execution_count": null,
   "metadata": {},
   "outputs": [],
   "source": [
    "folded.bin().scatter()"
   ]
  },
  {
   "cell_type": "markdown",
   "metadata": {},
   "source": [
    "We kunnen deze samengeplooide functie ook anders plotten, namelijk met een `rivierplot`. Op de y-as staat de cyclus (hoeveelste periodieke herhaling) en op de x as de fase (tussen -0.5 en 0.5). De kleur geeft waar wat de lichtintensiteit is. Hoe zou deze grafiek er moeten uitzien bij een planeet?"
   ]
  },
  {
   "cell_type": "code",
   "execution_count": null,
   "metadata": {
    "scrolled": true
   },
   "outputs": [],
   "source": [
    "folded.plot_river()"
   ]
  },
  {
   "cell_type": "code",
   "execution_count": null,
   "metadata": {},
   "outputs": [],
   "source": []
  }
 ],
 "metadata": {
  "kernelspec": {
   "display_name": "Python 3",
   "language": "python",
   "name": "python3"
  },
  "language_info": {
   "codemirror_mode": {
    "name": "ipython",
    "version": 3
   },
   "file_extension": ".py",
   "mimetype": "text/x-python",
   "name": "python",
   "nbconvert_exporter": "python",
   "pygments_lexer": "ipython3",
   "version": "3.7.8"
  }
 },
 "nbformat": 4,
 "nbformat_minor": 4
} 
