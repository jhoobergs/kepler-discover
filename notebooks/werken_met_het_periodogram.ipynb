{
 "cells": [
  {
   "cell_type": "markdown",
   "metadata": {},
   "source": [
    "# Ontdek exoplaneten"
   ]
  },
  {
   "cell_type": "code",
   "execution_count": null,
   "metadata": {},
   "outputs": [],
   "source": [
    "import lightkurve as lk\n",
    "tpf = lk.search_targetpixelfile(\"Kepler-1\", quarter=1).download()\n",
    "lc = tpf.to_lightcurve(aperture_mask=tpf.pipeline_mask)"
   ]
  },
  {
   "cell_type": "markdown",
   "metadata": {},
   "source": [
    "## Werken met het periodogram"
   ]
  },
  {
   "cell_type": "markdown",
   "metadata": {},
   "source": [
    "Hieronder gaan we kijken naar het `periodigram`. Het periodigram toont hoe hard een specifieke periode (of frequentie) voorkomt in een functie.\n",
    "\n",
    "Voordat we dit periodigram gaan opstellen, moeten we bepalen voor welke periodes we dit willen doen. De meeste missies van Kepler duurde ongeveer 90 dagen.\n",
    "\n",
    "\n",
    "#### Vraag: Wat is dan de maximale periode die we kunnen waarnemen met deze data?"
   ]
  },
  {
   "cell_type": "markdown",
   "metadata": {},
   "source": [
    "We moeten de periodes die we willen onderzoeken, meegeven als een lijst. We gebruiken de `numpy` bibliotheek om makkelijk een lijst te maken met datapunten op gelijke afstand. \n",
    "\n",
    "\n",
    "#### Vraag: Verklaar onderstaande code"
   ]
  },
  {
   "cell_type": "code",
   "execution_count": null,
   "metadata": {},
   "outputs": [],
   "source": [
    "import numpy as np\n",
    "period=np.arange(1, 15, 0.1)\n",
    "print(period)"
   ]
  },
  {
   "cell_type": "markdown",
   "metadata": {},
   "source": [
    "Hieronder berekenen en plotten we het periodigram.  We gebruiken de `bls` methode. Als je geïnteresseerd bent in een korte wiskundige uitleg, kan je die [hier](https://docs.astropy.org/en/stable/timeseries/bls.html#mathematical-background) vinden."
   ]
  },
  {
   "cell_type": "code",
   "execution_count": null,
   "metadata": {
    "scrolled": true
   },
   "outputs": [],
   "source": [
    "periodogram = lc.to_periodogram(method=\"bls\", period=period)\n",
    "periodogram.plot();"
   ]
  },
  {
   "cell_type": "markdown",
   "metadata": {},
   "source": [
    "We kunnen proberen om de periode met de hoogste piek, af te lezen van de bovenstaande grafiek. Dit zal echter niet zo nauwkeurig zijn. Het is daarom handig dat we die gegevens kunnen opvragen aan het periodogram."
   ]
  },
  {
   "cell_type": "code",
   "execution_count": null,
   "metadata": {},
   "outputs": [],
   "source": [
    "    best_fit_period = periodogram.period_at_max_power\n",
    "    print('Best fit period: {:.3f}'.format(best_fit_period))\n",
    "    best_fit_duration = periodogram.duration_at_max_power\n",
    "    print('Best fit duration: {:.3f}'.format(best_fit_duration))\n",
    "    best_fit_depth = periodogram.depth_at_max_power\n",
    "    print('Best fit depth: {:.3f}'.format(best_fit_depth))\n",
    "    transit_time_at_max_power = periodogram.transit_time_at_max_power\n",
    "    print('Best fit transit time: {:.3f}'.format(transit_time_at_max_power))\n"
   ]
  },
  {
   "cell_type": "markdown",
   "metadata": {},
   "source": [
    "#### Vraag:  Valt er je trouwens iets op in het periodogram? \n",
    "\n",
    "\n",
    "#### Vraag:  Zit hier ook geen soort periodiciteit in? Waarom is dit? \n",
    "\n",
    "\n",
    "#### Vraag: Wat moeten we dus steeds in het achterhoofd houden?"
   ]
  },
  {
   "cell_type": "code",
   "execution_count": null,
   "metadata": {},
   "outputs": [],
   "source": [
    "# Gebruik dit codevak om het periodigram op te stellen voor periodes tussen 2 dagen en 5 dagen met een stapgrootte van 0.01"
   ]
  },
  {
   "cell_type": "markdown",
   "metadata": {},
   "source": [
    "Speel in het codevak hierboven met de minimale en maximale periode en met de stapgrootte. \n",
    "\n",
    "\n",
    "#### Vraag: Wat valt op?"
   ]
  }
 ],
 "metadata": {
  "kernelspec": {
   "display_name": "Python 3",
   "language": "python",
   "name": "python3"
  },
  "language_info": {
   "codemirror_mode": {
    "name": "ipython",
    "version": 3
   },
   "file_extension": ".py",
   "mimetype": "text/x-python",
   "name": "python",
   "nbconvert_exporter": "python",
   "pygments_lexer": "ipython3",
   "version": "3.8.5"
  }
 },
 "nbformat": 4,
 "nbformat_minor": 4
}
