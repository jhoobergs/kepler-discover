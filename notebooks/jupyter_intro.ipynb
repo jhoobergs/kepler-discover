{
 "cells": [
  {
   "cell_type": "markdown",
   "metadata": {},
   "source": [
    "# Inleiding tot jupyter notebooks\n",
    "\n",
    "###### DISCLAIMER: dit is grotendeels overgenomen van https://nbviewer.jupyter.org/github/jupyter/notebook/blob/master/docs/source/examples/Notebook/Running%20Code.ipynb en vertaald.\n",
    "\n",
    "## Code uitvoeren"
   ]
  },
  {
   "cell_type": "markdown",
   "metadata": {},
   "source": [
    "Een Jupyter Notebook is een interactieve omgeving om code te kunnen schrijven en uitvoeren. Er is ondersteuning voor een grote hoeveelheid programmeertalen. Elk notebook kan echter maar één programmeertaal gebruiken. Wij gebruiken steeds python.\n",
    "\n",
    "Dit document is een inleiding en gaat vooral over het leren werken met de notebooks. Je wordt niet veronderstelt om alle code (volledig) te begrijpen."
   ]
  },
  {
   "cell_type": "markdown",
   "metadata": {},
   "source": [
    "### Codeblokken laten je toe om code in te geven en uit te voeren"
   ]
  },
  {
   "cell_type": "markdown",
   "metadata": {},
   "source": [
    "Voer een codeblok uit met `Shift-Enter` of door op de <button class='btn btn-default btn-xs'><i class=\"icon-step-forward fa fa-play\"></i></button> knop te klikken in de balk bovenaan:"
   ]
  },
  {
   "cell_type": "code",
   "execution_count": null,
   "metadata": {},
   "outputs": [],
   "source": [
    "a = 10"
   ]
  },
  {
   "cell_type": "code",
   "execution_count": null,
   "metadata": {},
   "outputs": [],
   "source": [
    "print(a)"
   ]
  },
  {
   "cell_type": "markdown",
   "metadata": {},
   "source": [
    "### De Kernel beheren"
   ]
  },
  {
   "cell_type": "markdown",
   "metadata": {},
   "source": [
    "De code wordt in een apart programma genaamd de `Kernel` uitgevoerd. Deze Kernel kan worden gestopt en herstart. Probeer volgend blok uit te voeren en klik dan op de <button class='btn btn-default btn-xs'><i class='icon-stop fa fa-stop'></i></button> knop in de balk bovenaan."
   ]
  },
  {
   "cell_type": "code",
   "execution_count": null,
   "metadata": {},
   "outputs": [],
   "source": [
    "import time\n",
    "time.sleep(10)"
   ]
  },
  {
   "cell_type": "markdown",
   "metadata": {},
   "source": [
    "Als de Kernel vastloopt, zal je gevraagd worden om die te herstarten. De code hieronder zorgt bijvoorbeeld voor een fout.:"
   ]
  },
  {
   "cell_type": "code",
   "execution_count": null,
   "metadata": {},
   "outputs": [],
   "source": [
    "import sys\n",
    "from ctypes import CDLL\n",
    "# This will crash a Linux or Mac system\n",
    "# equivalent calls can be made on Windows\n",
    "\n",
    "# Uncomment these lines if you would like to see the segfault\n",
    "\n",
    "dll = 'dylib' if sys.platform == 'darwin' else 'so.6'\n",
    "libc = CDLL(\"libc.%s\" % dll) \n",
    "libc.time(-1)  # BOOM!!"
   ]
  },
  {
   "cell_type": "markdown",
   "metadata": {},
   "source": [
    "### Cell menu"
   ]
  },
  {
   "cell_type": "markdown",
   "metadata": {},
   "source": [
    "Het `Cell` menu heeft een aantal menu-items om de code op verschillende manieren uit te voeren zoals:\n",
    "\n",
    "* Run and Select Below\n",
    "* Run and Insert Below\n",
    "* Run All\n",
    "* Run All Above\n",
    "* Run All Below\n",
    "\n",
    "Voor deze lessenreeks is het best om dit niet te vaak te gebruiken en steeds de run knop te gebruiken om individuele codeblokken uit te voeren."
   ]
  },
  {
   "cell_type": "markdown",
   "metadata": {},
   "source": [
    "### Het herstarten van de kernel"
   ]
  },
  {
   "cell_type": "markdown",
   "metadata": {},
   "source": [
    "De kernel houdt de huidige toestand van de berekeningen in het notebook bij. Je kan deze toestand resetten door de kernel te herstarten. Dit doe je door te klikken op de <button class='btn btn-default btn-xs'><i class='fa fa-repeat icon-repeat'></i></button> knop in de balk bovenaan.\n",
    "\n",
    "Je kan ook gebruik maken van het `Kernel` menu en daar vind je bijvoorbeeld ook de optie 'Restarent & Clear output' om terug te beginnen alsof er nog niets gebeurd is."
   ]
  },
  {
   "cell_type": "markdown",
   "metadata": {},
   "source": [
    "### sys.stdout and sys.stderr"
   ]
  },
  {
   "cell_type": "markdown",
   "metadata": {},
   "source": [
    "Als een programma tekst wegschrijft doet het dat naar bestanden genaamd `stdout` (voor normale gegevens) en `sterr` (voor error gegevens). Deze worden als tekst weergegeven in de output velden."
   ]
  },
  {
   "cell_type": "code",
   "execution_count": null,
   "metadata": {},
   "outputs": [],
   "source": [
    "print(\"hi, stdout\")"
   ]
  },
  {
   "cell_type": "code",
   "execution_count": null,
   "metadata": {},
   "outputs": [],
   "source": [
    "import sys\n",
    "from __future__ import print_function\n",
    "print('hi, stderr', file=sys.stderr)"
   ]
  },
  {
   "cell_type": "markdown",
   "metadata": {},
   "source": [
    "### Output is asynchroon"
   ]
  },
  {
   "cell_type": "markdown",
   "metadata": {},
   "source": [
    "Alle output wordt asynchroon getoond op het moment dat hij door de kernel wordt gegenereerd. Als je de volgende cell al uitvoert, zal je de output één per één zien verschijnen, niet alles tegelijk. Als een codeblok nog bezig is met uitvoeren, wordt dit getoond met een sterretje in de linker kolom."
   ]
  },
  {
   "cell_type": "code",
   "execution_count": null,
   "metadata": {},
   "outputs": [],
   "source": [
    "import time, sys\n",
    "for i in range(8):\n",
    "    print(i)\n",
    "    time.sleep(0.5)"
   ]
  }
 ],
 "metadata": {
  "kernelspec": {
   "display_name": "Python 3",
   "language": "python",
   "name": "python3"
  },
  "language_info": {
   "codemirror_mode": {
    "name": "ipython",
    "version": 3
   },
   "file_extension": ".py",
   "mimetype": "text/x-python",
   "name": "python",
   "nbconvert_exporter": "python",
   "pygments_lexer": "ipython3",
   "version": "3.8.5"
  }
 },
 "nbformat": 4,
 "nbformat_minor": 1
}
