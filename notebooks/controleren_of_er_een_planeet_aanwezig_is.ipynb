{
 "cells": [
  {
   "cell_type": "markdown",
   "metadata": {},
   "source": [
    "# Ontdek exoplaneten"
   ]
  },
  {
   "cell_type": "code",
   "execution_count": null,
   "metadata": {},
   "outputs": [],
   "source": [
    "import lightkurve as lk\n",
    "tpf = lk.search_targetpixelfile(\"Kepler-1\", quarter=1).download()\n",
    "lc = tpf.to_lightcurve(aperture_mask=tpf.pipeline_mask)"
   ]
  },
  {
   "cell_type": "markdown",
   "metadata": {},
   "source": [
    "## Controleren of er een planeet aanwezig is\n",
    "\n",
    "Als we via de Transit-methode een planeet ontdekken, dan betekent dit dat we periodiciteit ontdekt hebben in de `lightcurve`. Om deze periodiciteit te beschrijven hebben we twee zaken nodig, welke? Onderstaand codevak geeft een hint."
   ]
  },
  {
   "cell_type": "code",
   "execution_count": null,
   "metadata": {},
   "outputs": [],
   "source": [
    "period = 2.473\n",
    "first_pass = 132.562"
   ]
  },
  {
   "cell_type": "markdown",
   "metadata": {},
   "source": [
    "`period` is de periode, uitgedrukt in dagen. `first_pass` is het eerste moment waarop de periodiciteit start, binnen de data die we hebben, en is uitgedrukt in dagen sinds de start van de missie."
   ]
  },
  {
   "cell_type": "markdown",
   "metadata": {},
   "source": [
    "Hieronder gaan we controleren of deze periodiciteit ook echt voorkomt in de data."
   ]
  },
  {
   "cell_type": "markdown",
   "metadata": {},
   "source": [
    "Om dit te doen gaan we de datapunten 'samenplooien' (of 'folden' in het engels).\n",
    "\n",
    "#### Wat betekent dit? \n",
    "\n",
    "Het betekent dat we een bepaald startpunt (de `first_pass`) gaan kiezen en een bepaalde periode en dat we aan de hand van die twee waardes de datapunten gaan verplaatsen zodat ze allemaal liggen tussen een x-waarde van -0.5 tot 0.5. \n",
    "\n",
    "Hoe gaan we de datapunt verplaatsen?\n",
    "- We nemen het deel van de datapunten vanaf het startpunt (de `first_pass`) tot `first_pass + period` en kopiëren dit naar de nieuwe grafiek. We herschuiven (zodat het midden bij x=0 ligt) en schalen dit, zodat het past in het bereik -0.5 tot 0.5\n",
    "- We delen de delen links en rechts van dit stukje op in stukken met een lengte gelijk aan `period` en passen hierop deze verschuiving en schaling toe\n",
    "\n",
    "### Voorbeeld\n",
    "\n",
    "Hieronder vind je een voorbeeld. Je hoeft de python code niet te begrijpen. We zien dat de aparte stukken van de periodiciteit (rood, blauw en groen), elk apart verplaatst en geschaald zijn. We zien hier heel duidelijk dat het inderdaad periodisch is, want de punten vallen heel hard samen."
   ]
  },
  {
   "cell_type": "code",
   "execution_count": null,
   "metadata": {},
   "outputs": [],
   "source": [
    "import matplotlib.pyplot as plt\n",
    "part1 = [1,2,3,4,5,6,5,4,3,2,1]\n",
    "part2 = list(map(lambda x: x+0.1, part1))\n",
    "part3 = list(map(lambda x: x-0.1, part1))\n",
    "plt.figure(100)\n",
    "plt.scatter(range(11), part1, color=\"red\")\n",
    "plt.scatter(range(11,22), part2, color=\"blue\")\n",
    "plt.scatter(range(22,33), part3, color=\"green\")\n",
    "plt.figure(200)\n",
    "folded_range = list(map(lambda x: x/10.0, range(-5,6,1)))\n",
    "plt.scatter(folded_range, part1, color=\"red\")\n",
    "plt.scatter(folded_range, part2, color=\"blue\")\n",
    "plt.scatter(folded_range, part3, color=\"green\")"
   ]
  },
  {
   "cell_type": "markdown",
   "metadata": {},
   "source": [
    "Hieronder zie je hoe het voorbeeld eruit zou zien als we de verkeerde `first_pass` gebruiken. Opnieuw: deze code moet je niet begrijpen, enkel het resultaat."
   ]
  },
  {
   "cell_type": "code",
   "execution_count": null,
   "metadata": {},
   "outputs": [],
   "source": [
    "import matplotlib.pyplot as plt\n",
    "part1 = [1,2,3,4,5,6,5,4,3,2,1]\n",
    "part2 = list(map(lambda x: x+0.1, part1))\n",
    "part3 = list(map(lambda x: x-0.1, part1))\n",
    "plt.figure(100)\n",
    "plt.scatter(range(11), part1, color=\"red\")\n",
    "plt.scatter(range(11,22), part2, color=\"blue\")\n",
    "plt.scatter(range(22,33), part3, color=\"green\")\n",
    "plt.figure(200)\n",
    "folded_range = list(map(lambda x: x/10.0, range(-5,6,1)))\n",
    "plt.scatter(folded_range, part1[3:] + part1[:3], color=\"red\")\n",
    "plt.scatter(folded_range, part2[3:] + part2[:3], color=\"blue\")\n",
    "plt.scatter(folded_range, part3[3:] + part3[:3], color=\"green\")"
   ]
  },
  {
   "cell_type": "markdown",
   "metadata": {},
   "source": [
    "#### Vraag:  Verklaar waarom deze grafiek er zo uitziet."
   ]
  },
  {
   "cell_type": "markdown",
   "metadata": {},
   "source": [
    "### Folden van de lightcurve\n",
    "\n",
    "Om een lightcurve te folden, maken we gebruik van de fold methode waaraan we `period` en `t0` meegeven."
   ]
  },
  {
   "cell_type": "code",
   "execution_count": null,
   "metadata": {},
   "outputs": [],
   "source": [
    "folded = lc.fold(period=period, t0=first_pass)"
   ]
  },
  {
   "cell_type": "markdown",
   "metadata": {},
   "source": [
    "Plot de samengeplooide data via een scatterplot.\n",
    "\n",
    "\n",
    "#### Vraag: Hoe zou dit er moeten uitzien als er een planeet ronddraait met periode `period`? \n",
    "\n",
    "\n",
    "#### Vraag: Hoe kunnen we zien dat onze `first_pass` fout is?"
   ]
  },
  {
   "cell_type": "code",
   "execution_count": null,
   "metadata": {},
   "outputs": [],
   "source": [
    "folded.bin().scatter()"
   ]
  },
  {
   "cell_type": "markdown",
   "metadata": {},
   "source": [
    "We kunnen deze samengeplooide functie ook anders plotten, namelijk met een `rivierplot`. Op de y-as staat de cyclus (hoeveelste periodieke herhaling) en op de x as de fase (tussen -0.5 en 0.5). De kleur geeft waar wat de lichtintensiteit is. \n",
    "\n",
    "\n",
    "#### Vraag:  Hoe zou deze grafiek er uitzien als er een planeet ronddraait met periode `period`? \n",
    "\n",
    "\n",
    "#### Vraag: Hoe kunnen we zien dat onze `first_pass` fout is?"
   ]
  },
  {
   "cell_type": "code",
   "execution_count": null,
   "metadata": {
    "scrolled": true
   },
   "outputs": [],
   "source": [
    "folded.plot_river()"
   ]
  },
  {
   "cell_type": "markdown",
   "metadata": {},
   "source": [
    "#### Vraag:  Wat merk je op in deze grafiek?"
   ]
  },
  {
   "cell_type": "markdown",
   "metadata": {},
   "source": [
    "Hieronder doen we dezelfde berekening, maar we verschuiven de first_pass met 1/4e keer de periode. \n",
    "\n",
    "#### Vraag: Hoe verwacht je dat dit er zal uitzien?\n",
    "\n",
    "\n",
    "#### Vraag: Wat gebeurt er als we - doen in plaats van +?\n",
    "\n",
    "\n",
    "#### Vraag: Wat gebeurt er als we het met 5/4e keer de periode verplaatsen?\n"
   ]
  },
  {
   "cell_type": "code",
   "execution_count": null,
   "metadata": {},
   "outputs": [],
   "source": [
    "period = 2.473\n",
    "first_pass = 132.562\n",
    "first_pass = first_pass + period / 4\n",
    "folded = lc.fold(period=period, t0=first_pass)\n",
    "folded.bin().scatter()\n",
    "folded.plot_river()"
   ]
  }
 ],
 "metadata": {
  "kernelspec": {
   "display_name": "Python 3",
   "language": "python",
   "name": "python3"
  },
  "language_info": {
   "codemirror_mode": {
    "name": "ipython",
    "version": 3
   },
   "file_extension": ".py",
   "mimetype": "text/x-python",
   "name": "python",
   "nbconvert_exporter": "python",
   "pygments_lexer": "ipython3",
   "version": "3.8.5"
  }
 },
 "nbformat": 4,
 "nbformat_minor": 4
}
