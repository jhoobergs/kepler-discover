{
 "cells": [
  {
   "cell_type": "markdown",
   "metadata": {},
   "source": [
    "# Ontdek exoplaneten"
   ]
  },
  {
   "cell_type": "markdown",
   "metadata": {},
   "source": [
    "## Inleiding python en lightkurve bibliotheek"
   ]
  },
  {
   "cell_type": "markdown",
   "metadata": {},
   "source": [
    "Voordat we kunnen beginnen, moeten we een aantal (software)bibliotheken ('libraries') inladen. Softwarebibliotheken zijn softwarepakketten -- vaak in de vorm van code -- die door anderen geschreven zijn en die je kan herbruiken in je eigen code. Dit document maakt gebruik van de programmeertaal python en softwarebibliotheken die in python geschreven zijn."
   ]
  },
  {
   "cell_type": "markdown",
   "metadata": {},
   "source": [
    "We beginnen met het inladen van de [lightkurve](https://docs.lightkurve.org/) bibliotheek. Deze is specifiek ontwikkelt om te interageren met de data die verkregen werd door de Kepler en TESS ruimtemissies."
   ]
  },
  {
   "cell_type": "code",
   "execution_count": null,
   "metadata": {},
   "outputs": [],
   "source": [
    "import lightkurve as lk # We importeren lightkurve en korten het af als lk"
   ]
  },
  {
   "cell_type": "markdown",
   "metadata": {},
   "source": [
    "Nu kunnen we de data van NASA inladen. We gebruiken hiervoor de `search_targetpixelfile` functie. We geven als argument de naam van de ster (in dit geval `Kepler-1`) waar we willen naar kijken. In python -- en in bijna alle programmeertalen -- wordt tekst opgeslagen als zogenaamde `strings`. Het gaat over een `string of characters` (een sliert van karakters). Strings worden in python gespecifieerd tussen enkele quotes ('Kepler-1') of dubbele quotes (\"Kepler-1\"). Merk het verschil tussen `10` en `\"10\"`. Het eerste ziet python als een getal, waarmee je kan rekeken. Het tweede ziet python puur als tekst. Het resultaat van de functie-oproep kennen we toe aan een variabele genaamd `target_pixel_file_kepler_1_search_result`. Bij het programmeren worden variabelen gebruikt om gegevens bij te houden waarop je bewerkingen wilt doen."
   ]
  },
  {
   "cell_type": "code",
   "execution_count": null,
   "metadata": {},
   "outputs": [],
   "source": [
    "target_pixel_file_kepler_1_search_result = lk.search_targetpixelfile(\"Kepler-1\")"
   ]
  },
  {
   "cell_type": "markdown",
   "metadata": {},
   "source": [
    "We kunnen nu gebruikmaken van de download functie om de echte data in een variabele te krijgen."
   ]
  },
  {
   "cell_type": "code",
   "execution_count": null,
   "metadata": {},
   "outputs": [],
   "source": [
    "target_pixel_file_kepler_1 = target_pixel_file_kepler_1_search_result.download()"
   ]
  },
  {
   "cell_type": "markdown",
   "metadata": {},
   "source": [
    "De warning (waarschuwing) vertelt ons dat er 16 mogelijke bestanden zijn om te downloaden. De Missies van NASA hebben in totaal 18 kwartalen geduurd en je kan dus specifiëren voor welke kwartaal je de data wilt downloaden. Je kan ook `download_all` gebruiken om ze allemaal te downloaden. Niet elke ster is in elke kwartiel waargenomen. Voor nu kiezen we voor de data van het derde kwartaal. Dit doen we door het _named-argument_ `quarter` mee te geven aan de functie. We overschrijven de variabele `target_pixel_file_kepler_1`."
   ]
  },
  {
   "cell_type": "code",
   "execution_count": null,
   "metadata": {},
   "outputs": [],
   "source": [
    "target_pixel_file_kepler_1 = lk.search_targetpixelfile(\"Kepler-1\", quarter=3).download()"
   ]
  },
  {
   "cell_type": "markdown",
   "metadata": {},
   "source": [
    "We kunnen de `plot` methode (een functie op een `target_pixel_file` object) gebruiken om de pixels van de ruimtewaarnemingen te tonen die overeenkomen met de ster."
   ]
  },
  {
   "cell_type": "code",
   "execution_count": null,
   "metadata": {},
   "outputs": [],
   "source": [
    "target_pixel_file_kepler_1.plot()"
   ]
  },
  {
   "cell_type": "markdown",
   "metadata": {},
   "source": [
    "De rode tekst hierboven is een waarschuwing (`warning`) die moet worden opgelost door de `lightkurve` bibliotheek. We kunnen onderstaande import en functie-oproep doen om te zorgen dat deze niet meer getoond worden. Dit zorgt er wel voor dat we geen enkele waarschuwing meer gaan zien."
   ]
  },
  {
   "cell_type": "code",
   "execution_count": null,
   "metadata": {},
   "outputs": [],
   "source": [
    "import warnings; warnings.simplefilter('ignore')"
   ]
  },
  {
   "cell_type": "markdown",
   "metadata": {},
   "source": [
    "Als we nu de `plot` functie gebruiken, krijgen we geen error."
   ]
  },
  {
   "cell_type": "code",
   "execution_count": null,
   "metadata": {},
   "outputs": [],
   "source": [
    "target_pixel_file_kepler_1.plot()"
   ]
  },
  {
   "cell_type": "markdown",
   "metadata": {},
   "source": [
    "We zien dat we zowel heel grote als heel kleine pixelwaardes hebben, dus kunnen we het beter logaritmisch plotten."
   ]
  },
  {
   "cell_type": "code",
   "execution_count": null,
   "metadata": {},
   "outputs": [],
   "source": [
    "target_pixel_file_kepler_1.plot(scale='log')"
   ]
  },
  {
   "cell_type": "markdown",
   "metadata": {},
   "source": [
    "Gebruik onderstaand codevak om zelf de `Kepler-8` ster te plotten met data uit kwartiel 10."
   ]
  },
  {
   "cell_type": "code",
   "execution_count": null,
   "metadata": {},
   "outputs": [],
   "source": [
    "# Gebruik dit codevak om de Kepler-8 ster te plotten met data uit kwartiel 10"
   ]
  },
  {
   "cell_type": "markdown",
   "metadata": {},
   "source": [
    "Als we dit niet zouden willen doen voor meerdere sterren en meerdere kwartielen, dan zouden we deze code moeten kopiëren. Dat is niet erg handig. We kunnen echter zelf ook functies definiëren om zaken te vergemakkelijken."
   ]
  },
  {
   "cell_type": "markdown",
   "metadata": {},
   "source": [
    "Bekijk onderstaand voorbeeld van een functie die de som van twee getallen print (naar het scherm) met behulp van de `print` functie."
   ]
  },
  {
   "cell_type": "code",
   "execution_count": null,
   "metadata": {},
   "outputs": [],
   "source": [
    "def print_som(a, b):\n",
    "    print(\"De som van\", a, \"en\", b, \"is\", a + b) # Deze lijn is geïndenteerd: elke lijn in een functie moet geïndenteerd zijn in python\n",
    "print_som(1,2)\n",
    "print_som(2,3)"
   ]
  },
  {
   "cell_type": "markdown",
   "metadata": {},
   "source": [
    "Gebruik onderstaand codevak om zelf een functie `plot_ster` te definiëren die de data van een bepaalde ster in een bepaald kwartiel download en plot."
   ]
  },
  {
   "cell_type": "code",
   "execution_count": null,
   "metadata": {},
   "outputs": [],
   "source": [
    "# Gebruik dit codevak om de `print_ster` functie te maken."
   ]
  },
  {
   "cell_type": "markdown",
   "metadata": {},
   "source": [
    "## Pixelfiles omvormen naar lightcurves"
   ]
  },
  {
   "cell_type": "markdown",
   "metadata": {},
   "source": [
    "We gebruiken de `to_lightcurve` methode om deze data (foto's) om te zetten naar een `lightcurve`. Deze `lightcurve` bevat informatie over de hoeveelheid licht die we opvangen van de ster, doorheen de tijd. Er wordt gebruikgemaakt van een (aperture) mask. Deze mask specifieert welke pixels we meetellen en welke we niet meetellen bij het berekenen van de lightintensiteitswaarde. We gebruiken de `pipeline_mask` die bij de `TargetPixelFile` is gespecifieerd."
   ]
  },
  {
   "cell_type": "markdown",
   "metadata": {},
   "source": [
    "Hieronder printen we de mask."
   ]
  },
  {
   "cell_type": "code",
   "execution_count": null,
   "metadata": {},
   "outputs": [],
   "source": [
    "mask=target_pixel_file_kepler_1.pipeline_mask # We maken even de mask variabele, zodat de code korter is\n",
    "print(mask)"
   ]
  },
  {
   "cell_type": "markdown",
   "metadata": {},
   "source": [
    "#### Vraag: welke pixels worden meegeteld en welke niet?\n",
    "We kunnen bij het plotten van de pixels, ook de `aperture_mask` meegeven zodat die worden aangeduid."
   ]
  },
  {
   "cell_type": "code",
   "execution_count": null,
   "metadata": {},
   "outputs": [],
   "source": [
    "target_pixel_file_kepler_1.plot(scale='log', aperture_mask=mask, mask_color=\"red\")"
   ]
  },
  {
   "cell_type": "markdown",
   "metadata": {},
   "source": [
    "We gebruiken nu de `to_lightcurve` methode om deze data (foto's) om te zetten naar een lightcurve-object. We maken hier gebruik van de `mask`. \n",
    "\n",
    "#### Vraag: Waarom gebruiken we een mask?"
   ]
  },
  {
   "cell_type": "code",
   "execution_count": null,
   "metadata": {},
   "outputs": [],
   "source": [
    "light_curve = target_pixel_file_kepler_1.to_lightcurve(aperture_mask=mask)"
   ]
  },
  {
   "cell_type": "markdown",
   "metadata": {},
   "source": [
    "Hieronder plotten we de `lightcurve`."
   ]
  },
  {
   "cell_type": "code",
   "execution_count": null,
   "metadata": {},
   "outputs": [],
   "source": [
    "light_curve.plot()"
   ]
  },
  {
   "cell_type": "markdown",
   "metadata": {},
   "source": [
    "#### Vraag: Valt er iets op?\n",
    "Hieronder plotten we, enkel ter referentie, de light_curve als we alle pixels gebruiken."
   ]
  },
  {
   "cell_type": "code",
   "execution_count": null,
   "metadata": {},
   "outputs": [],
   "source": [
    "light_curve_all = target_pixel_file_kepler_1.to_lightcurve(aperture_mask=None)\n",
    "light_curve_all.plot()"
   ]
  },
  {
   "cell_type": "markdown",
   "metadata": {},
   "source": [
    "#### Vraag: Valt er iets op?"
   ]
  }
 ],
 "metadata": {
  "kernelspec": {
   "display_name": "Python 3",
   "language": "python",
   "name": "python3"
  },
  "language_info": {
   "codemirror_mode": {
    "name": "ipython",
    "version": 3
   },
   "file_extension": ".py",
   "mimetype": "text/x-python",
   "name": "python",
   "nbconvert_exporter": "python",
   "pygments_lexer": "ipython3",
   "version": "3.8.5"
  }
 },
 "nbformat": 4,
 "nbformat_minor": 4
}
