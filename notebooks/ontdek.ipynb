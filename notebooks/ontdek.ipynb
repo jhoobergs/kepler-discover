{
 "cells": [
  {
   "cell_type": "markdown",
   "metadata": {},
   "source": [
    "# Ontdek exoplaneten"
   ]
  },
  {
   "cell_type": "markdown",
   "metadata": {},
   "source": [
    "Gebruik je nieuwe kennis om planeten te ontdekken. Onderstaand codeblok staat ter jullie beschikking.\n",
    "\n",
    "Voor elke planeet die jullie denken te ontdekken, moet je kunnen zeggen wat de periode is, wat het startmoment is van de eerste periodische beweging in de data (t0) en rond welke ster die draait."
   ]
  },
  {
   "cell_type": "code",
   "execution_count": null,
   "metadata": {},
   "outputs": [],
   "source": []
  }
 ],
 "metadata": {
  "kernelspec": {
   "display_name": "Python 3",
   "language": "python",
   "name": "python3"
  },
  "language_info": {
   "codemirror_mode": {
    "name": "ipython",
    "version": 3
   },
   "file_extension": ".py",
   "mimetype": "text/x-python",
   "name": "python",
   "nbconvert_exporter": "python",
   "pygments_lexer": "ipython3",
   "version": "3.8.5"
  }
 },
 "nbformat": 4,
 "nbformat_minor": 4
}
